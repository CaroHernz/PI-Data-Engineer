{
 "cells": [
  {
   "cell_type": "code",
   "execution_count": 1,
   "metadata": {},
   "outputs": [],
   "source": [
    "import pandas as pd\n",
    "from surprise import Dataset, Reader, SVD, KNNBasic, KNNWithMeans, accuracy\n",
    "from surprise.model_selection import train_test_split, cross_validate\n"
   ]
  },
  {
   "cell_type": "code",
   "execution_count": 2,
   "metadata": {},
   "outputs": [],
   "source": [
    "df = pd.read_parquet('dataset_ml.parquet')"
   ]
  },
  {
   "cell_type": "code",
   "execution_count": 3,
   "metadata": {},
   "outputs": [
    {
     "data": {
      "text/html": [
       "<div>\n",
       "<style scoped>\n",
       "    .dataframe tbody tr th:only-of-type {\n",
       "        vertical-align: middle;\n",
       "    }\n",
       "\n",
       "    .dataframe tbody tr th {\n",
       "        vertical-align: top;\n",
       "    }\n",
       "\n",
       "    .dataframe thead th {\n",
       "        text-align: right;\n",
       "    }\n",
       "</style>\n",
       "<table border=\"1\" class=\"dataframe\">\n",
       "  <thead>\n",
       "    <tr style=\"text-align: right;\">\n",
       "      <th></th>\n",
       "      <th>userId</th>\n",
       "      <th>score</th>\n",
       "      <th>id</th>\n",
       "      <th>title</th>\n",
       "    </tr>\n",
       "  </thead>\n",
       "  <tbody>\n",
       "    <tr>\n",
       "      <th>1</th>\n",
       "      <td>1</td>\n",
       "      <td>4.5</td>\n",
       "      <td>ns2186</td>\n",
       "      <td>latte and the magic waterstone</td>\n",
       "    </tr>\n",
       "    <tr>\n",
       "      <th>3</th>\n",
       "      <td>1</td>\n",
       "      <td>5.0</td>\n",
       "      <td>ns3663</td>\n",
       "      <td>frankenstein’s monster’s monster, frankenstein</td>\n",
       "    </tr>\n",
       "    <tr>\n",
       "      <th>4</th>\n",
       "      <td>1</td>\n",
       "      <td>5.0</td>\n",
       "      <td>as9500</td>\n",
       "      <td>kept woman</td>\n",
       "    </tr>\n",
       "    <tr>\n",
       "      <th>6</th>\n",
       "      <td>1</td>\n",
       "      <td>4.5</td>\n",
       "      <td>ns8282</td>\n",
       "      <td>the drowning</td>\n",
       "    </tr>\n",
       "    <tr>\n",
       "      <th>7</th>\n",
       "      <td>1</td>\n",
       "      <td>5.0</td>\n",
       "      <td>as6112</td>\n",
       "      <td>salome</td>\n",
       "    </tr>\n",
       "  </tbody>\n",
       "</table>\n",
       "</div>"
      ],
      "text/plain": [
       "   userId  score      id                                           title\n",
       "1       1    4.5  ns2186                  latte and the magic waterstone\n",
       "3       1    5.0  ns3663  frankenstein’s monster’s monster, frankenstein\n",
       "4       1    5.0  as9500                                      kept woman\n",
       "6       1    4.5  ns8282                                    the drowning\n",
       "7       1    5.0  as6112                                          salome"
      ]
     },
     "execution_count": 3,
     "metadata": {},
     "output_type": "execute_result"
    }
   ],
   "source": [
    "df.head(5)"
   ]
  },
  {
   "cell_type": "code",
   "execution_count": 4,
   "metadata": {},
   "outputs": [],
   "source": [
    "# Creo los objetos Reader y Dataset\n",
    "reader = Reader(rating_scale=(1,5))\n",
    "data = Dataset.load_from_df(df[['userId','id','score']],reader=reader)"
   ]
  },
  {
   "cell_type": "code",
   "execution_count": 5,
   "metadata": {},
   "outputs": [],
   "source": [
    "# Separo datos\n",
    "trainset, testset = train_test_split(data,test_size=30)"
   ]
  },
  {
   "cell_type": "code",
   "execution_count": 6,
   "metadata": {},
   "outputs": [],
   "source": [
    "# Usamos un modelo de SVD y Validacion cruzada\n",
    "model = SVD()"
   ]
  },
  {
   "cell_type": "code",
   "execution_count": 7,
   "metadata": {},
   "outputs": [
    {
     "data": {
      "text/plain": [
       "<surprise.prediction_algorithms.matrix_factorization.SVD at 0x1a469e910>"
      ]
     },
     "execution_count": 7,
     "metadata": {},
     "output_type": "execute_result"
    }
   ],
   "source": [
    "#Entrenamos el modelo\n",
    "model.fit(trainset)"
   ]
  },
  {
   "cell_type": "code",
   "execution_count": 8,
   "metadata": {},
   "outputs": [],
   "source": [
    "prediccion = model.test(testset)"
   ]
  },
  {
   "cell_type": "code",
   "execution_count": 9,
   "metadata": {},
   "outputs": [
    {
     "data": {
      "text/plain": [
       "Prediction(uid=33657, iid='ns2941', r_ui=3.5, est=3.1325635336155626, details={'was_impossible': False})"
      ]
     },
     "execution_count": 9,
     "metadata": {},
     "output_type": "execute_result"
    }
   ],
   "source": [
    "prediccion[1]"
   ]
  },
  {
   "cell_type": "code",
   "execution_count": 10,
   "metadata": {},
   "outputs": [
    {
     "data": {
      "text/plain": [
       "Prediction(uid=2010, iid=22, r_ui=None, est=3.414633016157432, details={'was_impossible': False})"
      ]
     },
     "execution_count": 10,
     "metadata": {},
     "output_type": "execute_result"
    }
   ],
   "source": [
    "#Prediccion al azar para usuario y película\n",
    "model.predict(2010,22)"
   ]
  },
  {
   "cell_type": "code",
   "execution_count": 11,
   "metadata": {},
   "outputs": [
    {
     "data": {
      "text/html": [
       "<div>\n",
       "<style scoped>\n",
       "    .dataframe tbody tr th:only-of-type {\n",
       "        vertical-align: middle;\n",
       "    }\n",
       "\n",
       "    .dataframe tbody tr th {\n",
       "        vertical-align: top;\n",
       "    }\n",
       "\n",
       "    .dataframe thead th {\n",
       "        text-align: right;\n",
       "    }\n",
       "</style>\n",
       "<table border=\"1\" class=\"dataframe\">\n",
       "  <thead>\n",
       "    <tr style=\"text-align: right;\">\n",
       "      <th></th>\n",
       "      <th>userId</th>\n",
       "      <th>score</th>\n",
       "      <th>id</th>\n",
       "      <th>title</th>\n",
       "    </tr>\n",
       "  </thead>\n",
       "  <tbody>\n",
       "    <tr>\n",
       "      <th>0</th>\n",
       "      <td>1005</td>\n",
       "      <td>4.0</td>\n",
       "      <td>as5663</td>\n",
       "      <td>brittany runs a marathon</td>\n",
       "    </tr>\n",
       "    <tr>\n",
       "      <th>1</th>\n",
       "      <td>1005</td>\n",
       "      <td>5.0</td>\n",
       "      <td>as4508</td>\n",
       "      <td>nene raju nene mantri</td>\n",
       "    </tr>\n",
       "    <tr>\n",
       "      <th>2</th>\n",
       "      <td>1005</td>\n",
       "      <td>5.0</td>\n",
       "      <td>ns7253</td>\n",
       "      <td>la bamba</td>\n",
       "    </tr>\n",
       "    <tr>\n",
       "      <th>3</th>\n",
       "      <td>1005</td>\n",
       "      <td>4.0</td>\n",
       "      <td>as1720</td>\n",
       "      <td>master (tamil) [4k uhd]</td>\n",
       "    </tr>\n",
       "    <tr>\n",
       "      <th>4</th>\n",
       "      <td>1005</td>\n",
       "      <td>3.5</td>\n",
       "      <td>as9200</td>\n",
       "      <td>first shot</td>\n",
       "    </tr>\n",
       "  </tbody>\n",
       "</table>\n",
       "</div>"
      ],
      "text/plain": [
       "   userId  score      id                     title\n",
       "0    1005    4.0  as5663  brittany runs a marathon\n",
       "1    1005    5.0  as4508     nene raju nene mantri\n",
       "2    1005    5.0  ns7253                  la bamba\n",
       "3    1005    4.0  as1720   master (tamil) [4k uhd]\n",
       "4    1005    3.5  as9200                first shot"
      ]
     },
     "execution_count": 11,
     "metadata": {},
     "output_type": "execute_result"
    }
   ],
   "source": [
    "#tomo usuario para hacerle una recomendacion\n",
    "usuario = 1005\n",
    "rating = 3.5\n",
    "df_user = df[(df['userId']==usuario) & (df['score'] >= rating)]\n",
    "df_user = df_user.reset_index(drop=True)\n",
    "df_user"
   ]
  },
  {
   "cell_type": "code",
   "execution_count": 12,
   "metadata": {},
   "outputs": [
    {
     "data": {
      "text/plain": [
       "[]"
      ]
     },
     "execution_count": 12,
     "metadata": {},
     "output_type": "execute_result"
    }
   ],
   "source": [
    "#Probamos el modelo\n",
    "usuario = 1005\n",
    "recomendaciones = []\n",
    "for item in range(1,len(model.trainset.ir)):\n",
    "    if not model.trainset.knows_item(item):\n",
    "        prediccion_score = model.predict(usuario, item).est\n",
    "        recomendaciones.append((item,prediccion_score))\n",
    "\n",
    "# ordeno recomendacion por score\n",
    "sorted_recomendacion = sorted(recomendaciones, key=lambda x: x[1], reverse=True)\n",
    "\n",
    "# Top 5 de recomendaciones\n",
    "top_5 = [item[0] for item in sorted_recomendacion[:5]]\n",
    "top_5"
   ]
  },
  {
   "cell_type": "code",
   "execution_count": 13,
   "metadata": {},
   "outputs": [
    {
     "data": {
      "text/html": [
       "<div>\n",
       "<style scoped>\n",
       "    .dataframe tbody tr th:only-of-type {\n",
       "        vertical-align: middle;\n",
       "    }\n",
       "\n",
       "    .dataframe tbody tr th {\n",
       "        vertical-align: top;\n",
       "    }\n",
       "\n",
       "    .dataframe thead th {\n",
       "        text-align: right;\n",
       "    }\n",
       "</style>\n",
       "<table border=\"1\" class=\"dataframe\">\n",
       "  <thead>\n",
       "    <tr style=\"text-align: right;\">\n",
       "      <th></th>\n",
       "      <th>userId</th>\n",
       "      <th>score</th>\n",
       "      <th>id</th>\n",
       "      <th>title</th>\n",
       "    </tr>\n",
       "  </thead>\n",
       "  <tbody>\n",
       "    <tr>\n",
       "      <th>1</th>\n",
       "      <td>1</td>\n",
       "      <td>4.5</td>\n",
       "      <td>ns2186</td>\n",
       "      <td>latte and the magic waterstone</td>\n",
       "    </tr>\n",
       "    <tr>\n",
       "      <th>3</th>\n",
       "      <td>1</td>\n",
       "      <td>5.0</td>\n",
       "      <td>ns3663</td>\n",
       "      <td>frankenstein’s monster’s monster, frankenstein</td>\n",
       "    </tr>\n",
       "    <tr>\n",
       "      <th>4</th>\n",
       "      <td>1</td>\n",
       "      <td>5.0</td>\n",
       "      <td>as9500</td>\n",
       "      <td>kept woman</td>\n",
       "    </tr>\n",
       "    <tr>\n",
       "      <th>6</th>\n",
       "      <td>1</td>\n",
       "      <td>4.5</td>\n",
       "      <td>ns8282</td>\n",
       "      <td>the drowning</td>\n",
       "    </tr>\n",
       "    <tr>\n",
       "      <th>7</th>\n",
       "      <td>1</td>\n",
       "      <td>5.0</td>\n",
       "      <td>as6112</td>\n",
       "      <td>salome</td>\n",
       "    </tr>\n",
       "    <tr>\n",
       "      <th>...</th>\n",
       "      <td>...</td>\n",
       "      <td>...</td>\n",
       "      <td>...</td>\n",
       "      <td>...</td>\n",
       "    </tr>\n",
       "    <tr>\n",
       "      <th>1374</th>\n",
       "      <td>20</td>\n",
       "      <td>5.0</td>\n",
       "      <td>as8945</td>\n",
       "      <td>me, myself, and i</td>\n",
       "    </tr>\n",
       "    <tr>\n",
       "      <th>1376</th>\n",
       "      <td>20</td>\n",
       "      <td>4.0</td>\n",
       "      <td>ns7035</td>\n",
       "      <td>hypersomnia</td>\n",
       "    </tr>\n",
       "    <tr>\n",
       "      <th>1377</th>\n",
       "      <td>20</td>\n",
       "      <td>3.0</td>\n",
       "      <td>as9214</td>\n",
       "      <td>dolls</td>\n",
       "    </tr>\n",
       "    <tr>\n",
       "      <th>1378</th>\n",
       "      <td>20</td>\n",
       "      <td>4.5</td>\n",
       "      <td>ns6069</td>\n",
       "      <td>a.m.i.</td>\n",
       "    </tr>\n",
       "    <tr>\n",
       "      <th>1380</th>\n",
       "      <td>20</td>\n",
       "      <td>4.0</td>\n",
       "      <td>hs1598</td>\n",
       "      <td>a beautiful planet</td>\n",
       "    </tr>\n",
       "  </tbody>\n",
       "</table>\n",
       "<p>1000 rows × 4 columns</p>\n",
       "</div>"
      ],
      "text/plain": [
       "      userId  score      id                                           title\n",
       "1          1    4.5  ns2186                  latte and the magic waterstone\n",
       "3          1    5.0  ns3663  frankenstein’s monster’s monster, frankenstein\n",
       "4          1    5.0  as9500                                      kept woman\n",
       "6          1    4.5  ns8282                                    the drowning\n",
       "7          1    5.0  as6112                                          salome\n",
       "...      ...    ...     ...                                             ...\n",
       "1374      20    5.0  as8945                               me, myself, and i\n",
       "1376      20    4.0  ns7035                                     hypersomnia\n",
       "1377      20    3.0  as9214                                           dolls\n",
       "1378      20    4.5  ns6069                                          a.m.i.\n",
       "1380      20    4.0  hs1598                              a beautiful planet\n",
       "\n",
       "[1000 rows x 4 columns]"
      ]
     },
     "execution_count": 13,
     "metadata": {},
     "output_type": "execute_result"
    }
   ],
   "source": [
    "recomendacion = df.iloc[:1000].copy()\n",
    "recomendacion"
   ]
  },
  {
   "cell_type": "code",
   "execution_count": 14,
   "metadata": {},
   "outputs": [
    {
     "data": {
      "text/plain": [
       "(11, 4)"
      ]
     },
     "execution_count": 14,
     "metadata": {},
     "output_type": "execute_result"
    }
   ],
   "source": [
    "usuario_vistas = df[df['userId']== usuario]\n",
    "usuario_vistas.shape"
   ]
  },
  {
   "cell_type": "code",
   "execution_count": 15,
   "metadata": {},
   "outputs": [
    {
     "data": {
      "text/html": [
       "<div>\n",
       "<style scoped>\n",
       "    .dataframe tbody tr th:only-of-type {\n",
       "        vertical-align: middle;\n",
       "    }\n",
       "\n",
       "    .dataframe tbody tr th {\n",
       "        vertical-align: top;\n",
       "    }\n",
       "\n",
       "    .dataframe thead th {\n",
       "        text-align: right;\n",
       "    }\n",
       "</style>\n",
       "<table border=\"1\" class=\"dataframe\">\n",
       "  <thead>\n",
       "    <tr style=\"text-align: right;\">\n",
       "      <th></th>\n",
       "      <th>userId</th>\n",
       "      <th>score</th>\n",
       "      <th>id</th>\n",
       "      <th>title</th>\n",
       "    </tr>\n",
       "  </thead>\n",
       "  <tbody>\n",
       "    <tr>\n",
       "      <th>99272</th>\n",
       "      <td>1005</td>\n",
       "      <td>4.0</td>\n",
       "      <td>as5663</td>\n",
       "      <td>brittany runs a marathon</td>\n",
       "    </tr>\n",
       "    <tr>\n",
       "      <th>99275</th>\n",
       "      <td>1005</td>\n",
       "      <td>2.0</td>\n",
       "      <td>as380</td>\n",
       "      <td>the world's most breathtaking waterfalls</td>\n",
       "    </tr>\n",
       "    <tr>\n",
       "      <th>99276</th>\n",
       "      <td>1005</td>\n",
       "      <td>3.0</td>\n",
       "      <td>as5120</td>\n",
       "      <td>eh janam tumhare lekhe</td>\n",
       "    </tr>\n",
       "    <tr>\n",
       "      <th>99277</th>\n",
       "      <td>1005</td>\n",
       "      <td>5.0</td>\n",
       "      <td>as4508</td>\n",
       "      <td>nene raju nene mantri</td>\n",
       "    </tr>\n",
       "    <tr>\n",
       "      <th>99279</th>\n",
       "      <td>1005</td>\n",
       "      <td>5.0</td>\n",
       "      <td>ns7253</td>\n",
       "      <td>la bamba</td>\n",
       "    </tr>\n",
       "    <tr>\n",
       "      <th>99281</th>\n",
       "      <td>1005</td>\n",
       "      <td>2.5</td>\n",
       "      <td>ns8042</td>\n",
       "      <td>slow west</td>\n",
       "    </tr>\n",
       "    <tr>\n",
       "      <th>99282</th>\n",
       "      <td>1005</td>\n",
       "      <td>4.0</td>\n",
       "      <td>as1720</td>\n",
       "      <td>master (tamil) [4k uhd]</td>\n",
       "    </tr>\n",
       "    <tr>\n",
       "      <th>99283</th>\n",
       "      <td>1005</td>\n",
       "      <td>3.0</td>\n",
       "      <td>as6032</td>\n",
       "      <td>life itself</td>\n",
       "    </tr>\n",
       "    <tr>\n",
       "      <th>99284</th>\n",
       "      <td>1005</td>\n",
       "      <td>3.0</td>\n",
       "      <td>as7766</td>\n",
       "      <td>barbara stanwyck &amp; sterling hayden in \"crime o...</td>\n",
       "    </tr>\n",
       "    <tr>\n",
       "      <th>99285</th>\n",
       "      <td>1005</td>\n",
       "      <td>2.5</td>\n",
       "      <td>as8635</td>\n",
       "      <td>the best things in the world</td>\n",
       "    </tr>\n",
       "    <tr>\n",
       "      <th>99286</th>\n",
       "      <td>1005</td>\n",
       "      <td>3.5</td>\n",
       "      <td>as9200</td>\n",
       "      <td>first shot</td>\n",
       "    </tr>\n",
       "  </tbody>\n",
       "</table>\n",
       "</div>"
      ],
      "text/plain": [
       "       userId  score      id   \n",
       "99272    1005    4.0  as5663  \\\n",
       "99275    1005    2.0   as380   \n",
       "99276    1005    3.0  as5120   \n",
       "99277    1005    5.0  as4508   \n",
       "99279    1005    5.0  ns7253   \n",
       "99281    1005    2.5  ns8042   \n",
       "99282    1005    4.0  as1720   \n",
       "99283    1005    3.0  as6032   \n",
       "99284    1005    3.0  as7766   \n",
       "99285    1005    2.5  as8635   \n",
       "99286    1005    3.5  as9200   \n",
       "\n",
       "                                                   title  \n",
       "99272                           brittany runs a marathon  \n",
       "99275           the world's most breathtaking waterfalls  \n",
       "99276                             eh janam tumhare lekhe  \n",
       "99277                              nene raju nene mantri  \n",
       "99279                                           la bamba  \n",
       "99281                                          slow west  \n",
       "99282                            master (tamil) [4k uhd]  \n",
       "99283                                        life itself  \n",
       "99284  barbara stanwyck & sterling hayden in \"crime o...  \n",
       "99285                       the best things in the world  \n",
       "99286                                         first shot  "
      ]
     },
     "execution_count": 15,
     "metadata": {},
     "output_type": "execute_result"
    }
   ],
   "source": [
    "usuario_vistas"
   ]
  },
  {
   "cell_type": "code",
   "execution_count": 16,
   "metadata": {},
   "outputs": [
    {
     "ename": "KeyError",
     "evalue": "'[1005, 1005, 1005, 1005, 1005, 1005, 1005, 1005, 1005, 1005, 1005] not found in axis'",
     "output_type": "error",
     "traceback": [
      "\u001b[0;31m---------------------------------------------------------------------------\u001b[0m",
      "\u001b[0;31mKeyError\u001b[0m                                  Traceback (most recent call last)",
      "Cell \u001b[0;32mIn[16], line 2\u001b[0m\n\u001b[1;32m      1\u001b[0m \u001b[39m# sacamos las vistas ya por el usuario\u001b[39;00m\n\u001b[0;32m----> 2\u001b[0m recomendacion\u001b[39m.\u001b[39;49mdrop(usuario_vistas\u001b[39m.\u001b[39;49muserId,inplace\u001b[39m=\u001b[39;49m\u001b[39mTrue\u001b[39;49;00m)\n\u001b[1;32m      3\u001b[0m recomendacion \u001b[39m=\u001b[39m recomendacion\u001b[39m.\u001b[39mreset_index()\n\u001b[1;32m      4\u001b[0m recomendacion\n",
      "File \u001b[0;32m/Library/Frameworks/Python.framework/Versions/3.11/lib/python3.11/site-packages/pandas/core/frame.py:5266\u001b[0m, in \u001b[0;36mDataFrame.drop\u001b[0;34m(self, labels, axis, index, columns, level, inplace, errors)\u001b[0m\n\u001b[1;32m   5118\u001b[0m \u001b[39mdef\u001b[39;00m \u001b[39mdrop\u001b[39m(\n\u001b[1;32m   5119\u001b[0m     \u001b[39mself\u001b[39m,\n\u001b[1;32m   5120\u001b[0m     labels: IndexLabel \u001b[39m=\u001b[39m \u001b[39mNone\u001b[39;00m,\n\u001b[0;32m   (...)\u001b[0m\n\u001b[1;32m   5127\u001b[0m     errors: IgnoreRaise \u001b[39m=\u001b[39m \u001b[39m\"\u001b[39m\u001b[39mraise\u001b[39m\u001b[39m\"\u001b[39m,\n\u001b[1;32m   5128\u001b[0m ) \u001b[39m-\u001b[39m\u001b[39m>\u001b[39m DataFrame \u001b[39m|\u001b[39m \u001b[39mNone\u001b[39;00m:\n\u001b[1;32m   5129\u001b[0m     \u001b[39m\"\"\"\u001b[39;00m\n\u001b[1;32m   5130\u001b[0m \u001b[39m    Drop specified labels from rows or columns.\u001b[39;00m\n\u001b[1;32m   5131\u001b[0m \n\u001b[0;32m   (...)\u001b[0m\n\u001b[1;32m   5264\u001b[0m \u001b[39m            weight  1.0     0.8\u001b[39;00m\n\u001b[1;32m   5265\u001b[0m \u001b[39m    \"\"\"\u001b[39;00m\n\u001b[0;32m-> 5266\u001b[0m     \u001b[39mreturn\u001b[39;00m \u001b[39msuper\u001b[39;49m()\u001b[39m.\u001b[39;49mdrop(\n\u001b[1;32m   5267\u001b[0m         labels\u001b[39m=\u001b[39;49mlabels,\n\u001b[1;32m   5268\u001b[0m         axis\u001b[39m=\u001b[39;49maxis,\n\u001b[1;32m   5269\u001b[0m         index\u001b[39m=\u001b[39;49mindex,\n\u001b[1;32m   5270\u001b[0m         columns\u001b[39m=\u001b[39;49mcolumns,\n\u001b[1;32m   5271\u001b[0m         level\u001b[39m=\u001b[39;49mlevel,\n\u001b[1;32m   5272\u001b[0m         inplace\u001b[39m=\u001b[39;49minplace,\n\u001b[1;32m   5273\u001b[0m         errors\u001b[39m=\u001b[39;49merrors,\n\u001b[1;32m   5274\u001b[0m     )\n",
      "File \u001b[0;32m/Library/Frameworks/Python.framework/Versions/3.11/lib/python3.11/site-packages/pandas/core/generic.py:4549\u001b[0m, in \u001b[0;36mNDFrame.drop\u001b[0;34m(self, labels, axis, index, columns, level, inplace, errors)\u001b[0m\n\u001b[1;32m   4547\u001b[0m \u001b[39mfor\u001b[39;00m axis, labels \u001b[39min\u001b[39;00m axes\u001b[39m.\u001b[39mitems():\n\u001b[1;32m   4548\u001b[0m     \u001b[39mif\u001b[39;00m labels \u001b[39mis\u001b[39;00m \u001b[39mnot\u001b[39;00m \u001b[39mNone\u001b[39;00m:\n\u001b[0;32m-> 4549\u001b[0m         obj \u001b[39m=\u001b[39m obj\u001b[39m.\u001b[39;49m_drop_axis(labels, axis, level\u001b[39m=\u001b[39;49mlevel, errors\u001b[39m=\u001b[39;49merrors)\n\u001b[1;32m   4551\u001b[0m \u001b[39mif\u001b[39;00m inplace:\n\u001b[1;32m   4552\u001b[0m     \u001b[39mself\u001b[39m\u001b[39m.\u001b[39m_update_inplace(obj)\n",
      "File \u001b[0;32m/Library/Frameworks/Python.framework/Versions/3.11/lib/python3.11/site-packages/pandas/core/generic.py:4591\u001b[0m, in \u001b[0;36mNDFrame._drop_axis\u001b[0;34m(self, labels, axis, level, errors, only_slice)\u001b[0m\n\u001b[1;32m   4589\u001b[0m         new_axis \u001b[39m=\u001b[39m axis\u001b[39m.\u001b[39mdrop(labels, level\u001b[39m=\u001b[39mlevel, errors\u001b[39m=\u001b[39merrors)\n\u001b[1;32m   4590\u001b[0m     \u001b[39melse\u001b[39;00m:\n\u001b[0;32m-> 4591\u001b[0m         new_axis \u001b[39m=\u001b[39m axis\u001b[39m.\u001b[39;49mdrop(labels, errors\u001b[39m=\u001b[39;49merrors)\n\u001b[1;32m   4592\u001b[0m     indexer \u001b[39m=\u001b[39m axis\u001b[39m.\u001b[39mget_indexer(new_axis)\n\u001b[1;32m   4594\u001b[0m \u001b[39m# Case for non-unique axis\u001b[39;00m\n\u001b[1;32m   4595\u001b[0m \u001b[39melse\u001b[39;00m:\n",
      "File \u001b[0;32m/Library/Frameworks/Python.framework/Versions/3.11/lib/python3.11/site-packages/pandas/core/indexes/base.py:6696\u001b[0m, in \u001b[0;36mIndex.drop\u001b[0;34m(self, labels, errors)\u001b[0m\n\u001b[1;32m   6694\u001b[0m \u001b[39mif\u001b[39;00m mask\u001b[39m.\u001b[39many():\n\u001b[1;32m   6695\u001b[0m     \u001b[39mif\u001b[39;00m errors \u001b[39m!=\u001b[39m \u001b[39m\"\u001b[39m\u001b[39mignore\u001b[39m\u001b[39m\"\u001b[39m:\n\u001b[0;32m-> 6696\u001b[0m         \u001b[39mraise\u001b[39;00m \u001b[39mKeyError\u001b[39;00m(\u001b[39mf\u001b[39m\u001b[39m\"\u001b[39m\u001b[39m{\u001b[39;00m\u001b[39mlist\u001b[39m(labels[mask])\u001b[39m}\u001b[39;00m\u001b[39m not found in axis\u001b[39m\u001b[39m\"\u001b[39m)\n\u001b[1;32m   6697\u001b[0m     indexer \u001b[39m=\u001b[39m indexer[\u001b[39m~\u001b[39mmask]\n\u001b[1;32m   6698\u001b[0m \u001b[39mreturn\u001b[39;00m \u001b[39mself\u001b[39m\u001b[39m.\u001b[39mdelete(indexer)\n",
      "\u001b[0;31mKeyError\u001b[0m: '[1005, 1005, 1005, 1005, 1005, 1005, 1005, 1005, 1005, 1005, 1005] not found in axis'"
     ]
    }
   ],
   "source": [
    "# sacamos las vistas ya por el usuario\n",
    "recomendacion.drop(usuario_vistas.userId,inplace=True)\n",
    "recomendacion = recomendacion.reset_index()\n",
    "recomendacion"
   ]
  },
  {
   "cell_type": "code",
   "execution_count": 17,
   "metadata": {},
   "outputs": [],
   "source": [
    "recomendacion['Estimacion'] = recomendacion['id'].apply(lambda x:model.predict(usuario,x).est)"
   ]
  },
  {
   "cell_type": "code",
   "execution_count": 18,
   "metadata": {},
   "outputs": [
    {
     "data": {
      "text/html": [
       "<div>\n",
       "<style scoped>\n",
       "    .dataframe tbody tr th:only-of-type {\n",
       "        vertical-align: middle;\n",
       "    }\n",
       "\n",
       "    .dataframe tbody tr th {\n",
       "        vertical-align: top;\n",
       "    }\n",
       "\n",
       "    .dataframe thead th {\n",
       "        text-align: right;\n",
       "    }\n",
       "</style>\n",
       "<table border=\"1\" class=\"dataframe\">\n",
       "  <thead>\n",
       "    <tr style=\"text-align: right;\">\n",
       "      <th></th>\n",
       "      <th>userId</th>\n",
       "      <th>score</th>\n",
       "      <th>id</th>\n",
       "      <th>title</th>\n",
       "      <th>Estimacion</th>\n",
       "    </tr>\n",
       "  </thead>\n",
       "  <tbody>\n",
       "    <tr>\n",
       "      <th>39</th>\n",
       "      <td>2</td>\n",
       "      <td>4.0</td>\n",
       "      <td>ns3429</td>\n",
       "      <td>el camino: a breaking bad movie</td>\n",
       "      <td>4.210400</td>\n",
       "    </tr>\n",
       "    <tr>\n",
       "      <th>148</th>\n",
       "      <td>6</td>\n",
       "      <td>3.0</td>\n",
       "      <td>ds1035</td>\n",
       "      <td>marvel rising: secret warriors</td>\n",
       "      <td>4.195578</td>\n",
       "    </tr>\n",
       "    <tr>\n",
       "      <th>698</th>\n",
       "      <td>12</td>\n",
       "      <td>3.0</td>\n",
       "      <td>ns584</td>\n",
       "      <td>no strings attached</td>\n",
       "      <td>4.108364</td>\n",
       "    </tr>\n",
       "    <tr>\n",
       "      <th>929</th>\n",
       "      <td>15</td>\n",
       "      <td>5.0</td>\n",
       "      <td>as6128</td>\n",
       "      <td>factory girl</td>\n",
       "      <td>4.032686</td>\n",
       "    </tr>\n",
       "    <tr>\n",
       "      <th>629</th>\n",
       "      <td>11</td>\n",
       "      <td>3.0</td>\n",
       "      <td>ds955</td>\n",
       "      <td>how to fish</td>\n",
       "      <td>4.016423</td>\n",
       "    </tr>\n",
       "  </tbody>\n",
       "</table>\n",
       "</div>"
      ],
      "text/plain": [
       "     userId  score      id                            title  Estimacion\n",
       "39        2    4.0  ns3429  el camino: a breaking bad movie    4.210400\n",
       "148       6    3.0  ds1035   marvel rising: secret warriors    4.195578\n",
       "698      12    3.0   ns584              no strings attached    4.108364\n",
       "929      15    5.0  as6128                     factory girl    4.032686\n",
       "629      11    3.0   ds955                      how to fish    4.016423"
      ]
     },
     "execution_count": 18,
     "metadata": {},
     "output_type": "execute_result"
    }
   ],
   "source": [
    "recomendacion = recomendacion.sort_values('Estimacion',ascending=False)\n",
    "recomendacion.head()"
   ]
  },
  {
   "cell_type": "markdown",
   "metadata": {},
   "source": [
    "### **Evaluación del modelo**"
   ]
  },
  {
   "cell_type": "code",
   "execution_count": 19,
   "metadata": {},
   "outputs": [
    {
     "name": "stdout",
     "output_type": "stream",
     "text": [
      "RMSE: 1.2128\n"
     ]
    },
    {
     "data": {
      "text/plain": [
       "1.2128453875430423"
      ]
     },
     "execution_count": 19,
     "metadata": {},
     "output_type": "execute_result"
    }
   ],
   "source": [
    "accuracy.rmse(prediccion)"
   ]
  },
  {
   "cell_type": "markdown",
   "metadata": {},
   "source": [
    "### Query: get_recomendation \n",
    "Consigna: recomendar películas a los usuarios basándose en películas similares, por lo que se debe encontrar la similitud de puntuación entre esa película y el resto de películas, se ordenarán según el score y devolverá una lista de Python con 5 valores, cada uno siendo el string del nombre de las películas con mayor puntaje, en orden descendente. Debe ser deployado como una función adicional de la API anterior y debe llamarse get_recommendation(titulo: str)."
   ]
  },
  {
   "cell_type": "code",
   "execution_count": 37,
   "metadata": {},
   "outputs": [],
   "source": [
    "def get_recomendation(title:str):\n",
    "    movie_id = df[df['title']==title]['id'].iloc[0]\n",
    "    movie_inner_id = trainset.to_inner_iid(movie_id)\n",
    "    prediccion = []\n",
    "\n",
    "    if movie_id is None:\n",
    "        return 'Esta pelicula no se encuentra, intente con otro titulo'\n",
    "\n",
    "    for uid in range(trainset.n_users):\n",
    "        prediccion.append((uid, model.predict(uid,movie_inner_id).est))\n",
    "    \n",
    "    prediccion.sort(key=lambda x: x[1], reverse=True)\n",
    "    respuesta = [items[0] for items in prediccion[:5]]\n",
    "\n",
    "    respuesta = []\n",
    "    for item in prediccion[:5]:\n",
    "        titulos = df[df['id']==item[0]]\n",
    "        pelicula = titulos['title'].iloc[0]\n",
    "        respuesta.append(pelicula)\n",
    "    return {'Recomendación': respuesta}\n",
    "   \n"
   ]
  },
  {
   "cell_type": "code",
   "execution_count": 38,
   "metadata": {},
   "outputs": [
    {
     "data": {
      "text/plain": [
       "{'Recomendación': [46854, 4434, 22335, 19510, 44683]}"
      ]
     },
     "execution_count": 38,
     "metadata": {},
     "output_type": "execute_result"
    }
   ],
   "source": [
    "get_recomendation(\"marvel studios' avengers: infinity war\")"
   ]
  }
 ],
 "metadata": {
  "kernelspec": {
   "display_name": "Python 3.11.1 64-bit",
   "language": "python",
   "name": "python3"
  },
  "language_info": {
   "codemirror_mode": {
    "name": "ipython",
    "version": 3
   },
   "file_extension": ".py",
   "mimetype": "text/x-python",
   "name": "python",
   "nbconvert_exporter": "python",
   "pygments_lexer": "ipython3",
   "version": "3.11.1"
  },
  "orig_nbformat": 4,
  "vscode": {
   "interpreter": {
    "hash": "aee8b7b246df8f9039afb4144a1f6fd8d2ca17a180786b69acc140d282b71a49"
   }
  }
 },
 "nbformat": 4,
 "nbformat_minor": 2
}
