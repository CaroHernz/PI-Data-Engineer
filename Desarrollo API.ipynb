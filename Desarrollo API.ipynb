{
 "cells": [
  {
   "cell_type": "code",
   "execution_count": 18,
   "metadata": {},
   "outputs": [],
   "source": [
    "import pandas as pd"
   ]
  },
  {
   "cell_type": "code",
   "execution_count": 19,
   "metadata": {},
   "outputs": [],
   "source": [
    "df = pd.read_csv('plataformas.csv')"
   ]
  },
  {
   "cell_type": "code",
   "execution_count": 47,
   "metadata": {},
   "outputs": [
    {
     "name": "stdout",
     "output_type": "stream",
     "text": [
      "<class 'pandas.core.frame.DataFrame'>\n",
      "RangeIndex: 22998 entries, 0 to 22997\n",
      "Data columns (total 16 columns):\n",
      " #   Column         Non-Null Count  Dtype  \n",
      "---  ------         --------------  -----  \n",
      " 0   show_id        22998 non-null  object \n",
      " 1   type           22998 non-null  object \n",
      " 2   title          22998 non-null  object \n",
      " 3   director       14738 non-null  object \n",
      " 4   cast           17677 non-null  object \n",
      " 5   country        11499 non-null  object \n",
      " 6   date_added     13444 non-null  object \n",
      " 7   release_year   22998 non-null  int64  \n",
      " 8   rating         22998 non-null  object \n",
      " 9   duration       22516 non-null  object \n",
      " 10  listed_in      22998 non-null  object \n",
      " 11  description    22994 non-null  object \n",
      " 12  id             22998 non-null  object \n",
      " 13  duration_int   22516 non-null  float64\n",
      " 14  duration_type  22516 non-null  object \n",
      " 15  score          22998 non-null  float64\n",
      "dtypes: float64(2), int64(1), object(13)\n",
      "memory usage: 2.8+ MB\n"
     ]
    }
   ],
   "source": [
    "df.info()"
   ]
  },
  {
   "cell_type": "code",
   "execution_count": 20,
   "metadata": {},
   "outputs": [
    {
     "data": {
      "text/html": [
       "<div>\n",
       "<style scoped>\n",
       "    .dataframe tbody tr th:only-of-type {\n",
       "        vertical-align: middle;\n",
       "    }\n",
       "\n",
       "    .dataframe tbody tr th {\n",
       "        vertical-align: top;\n",
       "    }\n",
       "\n",
       "    .dataframe thead th {\n",
       "        text-align: right;\n",
       "    }\n",
       "</style>\n",
       "<table border=\"1\" class=\"dataframe\">\n",
       "  <thead>\n",
       "    <tr style=\"text-align: right;\">\n",
       "      <th></th>\n",
       "      <th>show_id</th>\n",
       "      <th>type</th>\n",
       "      <th>title</th>\n",
       "      <th>director</th>\n",
       "      <th>cast</th>\n",
       "      <th>country</th>\n",
       "      <th>date_added</th>\n",
       "      <th>release_year</th>\n",
       "      <th>rating</th>\n",
       "      <th>duration</th>\n",
       "      <th>listed_in</th>\n",
       "      <th>description</th>\n",
       "      <th>id</th>\n",
       "      <th>duration_int</th>\n",
       "      <th>duration_type</th>\n",
       "      <th>score</th>\n",
       "    </tr>\n",
       "  </thead>\n",
       "  <tbody>\n",
       "    <tr>\n",
       "      <th>0</th>\n",
       "      <td>s1</td>\n",
       "      <td>movie</td>\n",
       "      <td>the grand seduction</td>\n",
       "      <td>don mckellar</td>\n",
       "      <td>brendan gleeson, taylor kitsch, gordon pinsent</td>\n",
       "      <td>canada</td>\n",
       "      <td>2021-03-30</td>\n",
       "      <td>2014</td>\n",
       "      <td>g</td>\n",
       "      <td>113 min</td>\n",
       "      <td>comedy, drama</td>\n",
       "      <td>a small fishing village must procure a local d...</td>\n",
       "      <td>as1</td>\n",
       "      <td>113.0</td>\n",
       "      <td>min</td>\n",
       "      <td>3.467131</td>\n",
       "    </tr>\n",
       "    <tr>\n",
       "      <th>1</th>\n",
       "      <td>s2</td>\n",
       "      <td>movie</td>\n",
       "      <td>take care good night</td>\n",
       "      <td>girish joshi</td>\n",
       "      <td>mahesh manjrekar, abhay mahajan, sachin khedekar</td>\n",
       "      <td>india</td>\n",
       "      <td>2021-03-30</td>\n",
       "      <td>2018</td>\n",
       "      <td>13+</td>\n",
       "      <td>110 min</td>\n",
       "      <td>drama, international</td>\n",
       "      <td>a metro family decides to fight a cyber crimin...</td>\n",
       "      <td>as2</td>\n",
       "      <td>110.0</td>\n",
       "      <td>min</td>\n",
       "      <td>3.548682</td>\n",
       "    </tr>\n",
       "    <tr>\n",
       "      <th>2</th>\n",
       "      <td>s3</td>\n",
       "      <td>movie</td>\n",
       "      <td>secrets of deception</td>\n",
       "      <td>josh webber</td>\n",
       "      <td>tom sizemore, lorenzo lamas, robert lasardo, r...</td>\n",
       "      <td>united states</td>\n",
       "      <td>2021-03-30</td>\n",
       "      <td>2017</td>\n",
       "      <td>g</td>\n",
       "      <td>74 min</td>\n",
       "      <td>action, drama, suspense</td>\n",
       "      <td>after a man discovers his wife is cheating on ...</td>\n",
       "      <td>as3</td>\n",
       "      <td>74.0</td>\n",
       "      <td>min</td>\n",
       "      <td>3.500000</td>\n",
       "    </tr>\n",
       "    <tr>\n",
       "      <th>3</th>\n",
       "      <td>s4</td>\n",
       "      <td>movie</td>\n",
       "      <td>pink: staying true</td>\n",
       "      <td>sonia anderson</td>\n",
       "      <td>interviews with: pink, adele, beyoncé, britney...</td>\n",
       "      <td>united states</td>\n",
       "      <td>2021-03-30</td>\n",
       "      <td>2014</td>\n",
       "      <td>g</td>\n",
       "      <td>69 min</td>\n",
       "      <td>documentary</td>\n",
       "      <td>pink breaks the mold once again, bringing her ...</td>\n",
       "      <td>as4</td>\n",
       "      <td>69.0</td>\n",
       "      <td>min</td>\n",
       "      <td>3.538055</td>\n",
       "    </tr>\n",
       "    <tr>\n",
       "      <th>4</th>\n",
       "      <td>s5</td>\n",
       "      <td>movie</td>\n",
       "      <td>monster maker</td>\n",
       "      <td>giles foster</td>\n",
       "      <td>harry dean stanton, kieran o'brien, george cos...</td>\n",
       "      <td>united kingdom</td>\n",
       "      <td>2021-03-30</td>\n",
       "      <td>1989</td>\n",
       "      <td>g</td>\n",
       "      <td>45 min</td>\n",
       "      <td>drama, fantasy</td>\n",
       "      <td>teenage matt banting wants to work with a famo...</td>\n",
       "      <td>as5</td>\n",
       "      <td>45.0</td>\n",
       "      <td>min</td>\n",
       "      <td>3.478992</td>\n",
       "    </tr>\n",
       "  </tbody>\n",
       "</table>\n",
       "</div>"
      ],
      "text/plain": [
       "  show_id   type                 title        director   \n",
       "0      s1  movie   the grand seduction    don mckellar  \\\n",
       "1      s2  movie  take care good night    girish joshi   \n",
       "2      s3  movie  secrets of deception     josh webber   \n",
       "3      s4  movie    pink: staying true  sonia anderson   \n",
       "4      s5  movie         monster maker    giles foster   \n",
       "\n",
       "                                                cast         country   \n",
       "0     brendan gleeson, taylor kitsch, gordon pinsent          canada  \\\n",
       "1   mahesh manjrekar, abhay mahajan, sachin khedekar           india   \n",
       "2  tom sizemore, lorenzo lamas, robert lasardo, r...   united states   \n",
       "3  interviews with: pink, adele, beyoncé, britney...   united states   \n",
       "4  harry dean stanton, kieran o'brien, george cos...  united kingdom   \n",
       "\n",
       "   date_added  release_year rating duration                listed_in   \n",
       "0  2021-03-30          2014      g  113 min            comedy, drama  \\\n",
       "1  2021-03-30          2018    13+  110 min     drama, international   \n",
       "2  2021-03-30          2017      g   74 min  action, drama, suspense   \n",
       "3  2021-03-30          2014      g   69 min              documentary   \n",
       "4  2021-03-30          1989      g   45 min           drama, fantasy   \n",
       "\n",
       "                                         description   id  duration_int   \n",
       "0  a small fishing village must procure a local d...  as1         113.0  \\\n",
       "1  a metro family decides to fight a cyber crimin...  as2         110.0   \n",
       "2  after a man discovers his wife is cheating on ...  as3          74.0   \n",
       "3  pink breaks the mold once again, bringing her ...  as4          69.0   \n",
       "4  teenage matt banting wants to work with a famo...  as5          45.0   \n",
       "\n",
       "  duration_type     score  \n",
       "0           min  3.467131  \n",
       "1           min  3.548682  \n",
       "2           min  3.500000  \n",
       "3           min  3.538055  \n",
       "4           min  3.478992  "
      ]
     },
     "execution_count": 20,
     "metadata": {},
     "output_type": "execute_result"
    }
   ],
   "source": [
    "df.head()"
   ]
  },
  {
   "cell_type": "markdown",
   "metadata": {},
   "source": [
    "## Consultas:"
   ]
  },
  {
   "cell_type": "markdown",
   "metadata": {},
   "source": [
    "Query 1: Película con mayor duración según plataforma y tipo de duración.\n",
    "La función debe llamarse get_max_duration (year, platform, duration_type)\n",
    "y debe devolver sólo el string del nombre de la película."
   ]
  },
  {
   "cell_type": "code",
   "execution_count": 60,
   "metadata": {},
   "outputs": [],
   "source": [
    "\n",
    "def get_max_duration(year,platform,duration_type):\n",
    "    df = pd.read_csv('plataformas.csv')\n",
    "\n",
    "    # Query\n",
    "    if platform == 'amazon':\n",
    "        filtro = df[(df['type'] == 'movie') & (df['release_year'] == year) & (df['duration_type'] == duration_type) &(df['id'].str.startswith('a'))]\n",
    "    elif platform == 'disney':\n",
    "        filtro = df[(df['type'] == 'movie') & (df['release_year'] == year) & (df['duration_type'] == duration_type) &(df['id'].str.startswith('d'))]\n",
    "    elif platform == 'hulu':\n",
    "        filtro = df[(df['type'] == 'movie') & (df['release_year'] == year) & (df['duration_type'] == duration_type) &(df['id'].str.startswith('h'))]\n",
    "    elif platform == 'netflix':\n",
    "        filtro = df[(df['type'] == 'movie') & (df['release_year'] == year) & (df['duration_type'] == duration_type) &(df['id'].str.startswith('n'))]\n",
    "    else:\n",
    "        return ('Algo salió mal. Por favor intente nuevamente :)')\n",
    "    \n",
    "    title_max = filtro[filtro['duration_int'] == (filtro['duration_int'].max())]\n",
    "    respuesta = title_max.iloc[0,2]\n",
    "\n",
    "    return {'Película':respuesta}"
   ]
  },
  {
   "cell_type": "code",
   "execution_count": 61,
   "metadata": {},
   "outputs": [
    {
     "data": {
      "text/plain": [
       "{'Película': 'how do you know'}"
      ]
     },
     "execution_count": 61,
     "metadata": {},
     "output_type": "execute_result"
    }
   ],
   "source": [
    "get_max_duration(2010,'hulu','min')"
   ]
  },
  {
   "cell_type": "markdown",
   "metadata": {},
   "source": [
    "Query 2: Cantidad de películas según plataforma, con puntaje mayor a XX en determinado año.\n",
    "La función debe llamarse get_score_count(platform, scored, year) y debe devolver un int, con el total de películas que cumplen lo solicitado."
   ]
  },
  {
   "cell_type": "code",
   "execution_count": 62,
   "metadata": {},
   "outputs": [],
   "source": [
    "def get_score_count(platform:str, score:float, year:int):    \n",
    "    df = pd.read_csv('plataformas.csv')\n",
    "\n",
    "    if platform == 'amazon':\n",
    "        filtro = df[(df['score'] > score) & (df['release_year'] == year) & (df['type'] == 'movie') & (df['id'].str.startswith('a'))]\n",
    "    elif platform == 'disney':\n",
    "        filtro = df[(df['score'] > score) & (df['release_year'] == year) & (df['type'] == 'movie') & (df['id'].str.startswith('d'))]\n",
    "    elif platform == 'hulu':\n",
    "        filtro = df[(df['score'] > score) & (df['release_year'] == year) & (df['type'] == 'movie') & (df['id'].str.startswith('h'))]    \n",
    "    elif platform == 'netflix':\n",
    "        filtro = df[(df['score'] > score) & (df['release_year'] == year) & (df['type'] == 'movie') & (df['id'].str.startswith('n'))]\n",
    "    else:\n",
    "        return ('La plataforma indicada no se encuentra o esta mal escrita. Por favor intente nuevamente :)')\n",
    "    \n",
    "    respuesta = filtro['title'].count()\n",
    "    if not respuesta == 0:\n",
    "        return {'Plataforma': platform, 'Cantidad': int(respuesta), 'Año': year, 'Score': score}\n",
    "    else:\n",
    "        return ('No hay películas con ese puntaje')"
   ]
  },
  {
   "cell_type": "code",
   "execution_count": 63,
   "metadata": {},
   "outputs": [
    {
     "data": {
      "text/plain": [
       "{'Plataforma': 'disney', 'Cantidad': 20, 'Año': 2010, 'Score': 3.5}"
      ]
     },
     "execution_count": 63,
     "metadata": {},
     "output_type": "execute_result"
    }
   ],
   "source": [
    "get_score_count(\"disney\",3.5, 2010)"
   ]
  },
  {
   "cell_type": "markdown",
   "metadata": {},
   "source": [
    "Query 3: Cantidad de películas según plataforma.\n",
    "La función debe llamarse get_count_platform(platform) y debe devolver un int, con el número total de películas de esa plataforma. Las plataformas deben llamarse amazon, netflix, hulu, disney."
   ]
  },
  {
   "cell_type": "code",
   "execution_count": 136,
   "metadata": {},
   "outputs": [],
   "source": [
    "def get_count_platform(platform:str):\n",
    "    df = pd.read_csv('plataformas.csv')\n",
    "\n",
    "    if platform == 'amazon':\n",
    "        filtro = df[(df['type'] == 'movie') & (df['id'].str.startswith('a'))]\n",
    "    elif platform == 'disney':\n",
    "        filtro = df[(df['type'] == 'movie') & (df['id'].str.startswith('d'))]\n",
    "    elif platform == 'hulu':\n",
    "        filtro = df[(df['type'] == 'movie') & (df['id'].str.startswith('h'))]    \n",
    "    elif platform == 'netflix':\n",
    "        filtro = df[(df['type'] == 'movie') & (df['id'].str.startswith('n'))]\n",
    "    else:\n",
    "        return ('La plataforma indicada no se encuentra o esta mal escrita. Por favor intente nuevamente :)')\n",
    "    \n",
    "    respuesta= filtro['id'].count()\n",
    "    return {'Plataforma': platform, 'Películas': int(respuesta)}"
   ]
  },
  {
   "cell_type": "code",
   "execution_count": 137,
   "metadata": {},
   "outputs": [
    {
     "data": {
      "text/plain": [
       "{'Plataforma': 'netflix', 'Películas': 6131}"
      ]
     },
     "execution_count": 137,
     "metadata": {},
     "output_type": "execute_result"
    }
   ],
   "source": [
    "get_count_platform('netflix')"
   ]
  },
  {
   "cell_type": "markdown",
   "metadata": {},
   "source": [
    "Query 4: Actor que más se repite según plataforma y año. La función debe llamarse get_actor(platform, year) y debe devolver sólo el string con el nombre del actor que más se repite según la plataforma y el año dado."
   ]
  },
  {
   "cell_type": "code",
   "execution_count": 161,
   "metadata": {},
   "outputs": [],
   "source": [
    "def get_actor(platform,year):\n",
    "    df = pd.read_csv('plataformas.csv')\n",
    "    \n",
    "    if platform == 'amazon':\n",
    "        filtro = df[(df['release_year'] == year) & (df['id'].str.startswith('a'))]\n",
    "    elif platform == 'disney':\n",
    "        filtro = df[(df['release_year'] == year) & (df['id'].str.startswith('d'))]\n",
    "    elif platform == 'hulu':\n",
    "        filtro = df[(df['release_year'] == year) & (df['id'].str.startswith('h'))]    \n",
    "    elif platform == 'netflix':\n",
    "        filtro = df[(df['release_year'] == year) & (df['id'].str.startswith('n'))]\n",
    "    else:\n",
    "        return ('La plataforma indicada no se encuentra o esta mal escrita. Por favor intente nuevamente :)')\n",
    "    \n",
    "    # Separo los nombres de la columna 'cast' \n",
    "    actor = filtro['cast'].str.split(', ')\n",
    "\n",
    "    # Calculo la frecuencia de aparición de cada actor\n",
    "    frecuencia = actor.explode().value_counts()\n",
    "\n",
    "    # Selecciono solo un valor\n",
    "    respuesta = frecuencia.index[0]\n",
    "    apariciones = frecuencia[0]\n",
    "    \n",
    "    return {'Plataforma': platform, 'Año': year, 'Actor': respuesta, 'Apariciones': apariciones}"
   ]
  },
  {
   "cell_type": "code",
   "execution_count": 162,
   "metadata": {},
   "outputs": [
    {
     "data": {
      "text/plain": [
       "{'Plataforma': 'amazon', 'Año': 2012, 'Actor': 'danny trejo', 'Apariciones': 3}"
      ]
     },
     "execution_count": 162,
     "metadata": {},
     "output_type": "execute_result"
    }
   ],
   "source": [
    "get_actor('amazon',2012)"
   ]
  },
  {
   "cell_type": "markdown",
   "metadata": {},
   "source": [
    "Query 5: Cantidad de contenidos que se publicó por país y año. \n",
    "La función debe llamarse prod_per_county(tipo,pais,anio) deberia devolver el tipo de contenido (pelicula,serie,documental) por pais y año en un diccionario con las variables llamadas 'pais' (nombre del pais), 'anio' (año), 'pelicula' (tipo de contenido)."
   ]
  },
  {
   "cell_type": "code",
   "execution_count": 132,
   "metadata": {},
   "outputs": [],
   "source": [
    "def prod_per_county(tipo, pais, anio):\n",
    "    df = pd.read_csv('plataformas.csv')\n",
    "    filtro = df[(df['type'] == tipo) & (df['country'] == pais) & (df['release_year'] == anio)]\n",
    "    respuesta = filtro['type'].count()\n",
    "    \n",
    "    return {'País': pais, 'Año': anio, 'Peliculas': int(respuesta)}   "
   ]
  },
  {
   "cell_type": "code",
   "execution_count": 133,
   "metadata": {},
   "outputs": [
    {
     "data": {
      "text/plain": [
       "{'País': 'chile', 'Año': 2018, 'Peliculas': 3}"
      ]
     },
     "execution_count": 133,
     "metadata": {},
     "output_type": "execute_result"
    }
   ],
   "source": [
    "prod_per_county('movie','chile',2018)"
   ]
  },
  {
   "cell_type": "markdown",
   "metadata": {},
   "source": [
    "Query 6: Cantidad total de contenidos según el rating de audiencia dado.\n",
    "La función debe llamarse get_contents(rating) y debe devolver el numero total de contenido con ese rating de audiencias."
   ]
  },
  {
   "cell_type": "code",
   "execution_count": 134,
   "metadata": {},
   "outputs": [],
   "source": [
    "def get_contents(rating):\n",
    "    df = pd.read_csv('plataformas.csv')\n",
    "    filtro = df[df['rating'] == rating]\n",
    "    respuesta = filtro.shape[0]\n",
    "    return {'rating': rating, 'contenido': respuesta}"
   ]
  },
  {
   "cell_type": "code",
   "execution_count": 135,
   "metadata": {},
   "outputs": [
    {
     "data": {
      "text/plain": [
       "{'rating': '16+', 'contenido': 1547}"
      ]
     },
     "execution_count": 135,
     "metadata": {},
     "output_type": "execute_result"
    }
   ],
   "source": [
    "get_contents('16+')"
   ]
  }
 ],
 "metadata": {
  "kernelspec": {
   "display_name": "Python 3.11.1 64-bit",
   "language": "python",
   "name": "python3"
  },
  "language_info": {
   "codemirror_mode": {
    "name": "ipython",
    "version": 3
   },
   "file_extension": ".py",
   "mimetype": "text/x-python",
   "name": "python",
   "nbconvert_exporter": "python",
   "pygments_lexer": "ipython3",
   "version": "3.11.1"
  },
  "orig_nbformat": 4,
  "vscode": {
   "interpreter": {
    "hash": "aee8b7b246df8f9039afb4144a1f6fd8d2ca17a180786b69acc140d282b71a49"
   }
  }
 },
 "nbformat": 4,
 "nbformat_minor": 2
}
